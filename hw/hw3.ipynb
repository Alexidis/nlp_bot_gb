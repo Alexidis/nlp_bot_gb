{
 "cells": [
  {
   "cell_type": "markdown",
   "source": [
    "Задание\n",
    "    1. на основе word2vec/fasttext реализовать метод поиска ближайших статей (на вход метода должен приходить запрос (какой-то вопрос) и количество вариантов вывода к примеру 5-ть, ваш метод должен возвращать 5-ть ближайших статей к этому запросу)\n",
    "    2. Проверить насколько хорошо работают подходы"
   ],
   "metadata": {
    "collapsed": false,
    "pycharm": {
     "name": "#%% md\n"
    }
   }
  },
  {
   "cell_type": "code",
   "execution_count": 1,
   "outputs": [],
   "source": [
    "import pandas as pd\n",
    "import numpy as np\n",
    "from pathlib import Path\n",
    "\n",
    "import annoy\n",
    "import string\n",
    "from pymorphy2 import MorphAnalyzer\n",
    "from stop_words import get_stop_words\n",
    "from gensim.models import Word2Vec, FastText\n",
    "from tqdm.notebook import tqdm\n",
    "\n",
    "exclude = set(string.punctuation)"
   ],
   "metadata": {
    "collapsed": false,
    "pycharm": {
     "name": "#%%\n"
    }
   }
  },
  {
   "cell_type": "code",
   "execution_count": 2,
   "outputs": [
    {
     "name": "stderr",
     "output_type": "stream",
     "text": [
      "C:\\Users\\Alexidis\\AppData\\Local\\Temp\\ipykernel_17112\\1907254647.py:4: DtypeWarning: Columns (3) have mixed types. Specify dtype option on import or set low_memory=False.\n",
      "  train_df = pd.read_csv(INPUT_DIR / 'lenta-ru-news.csv')\n"
     ]
    },
    {
     "data": {
      "text/plain": "                                           url  \\\n0   https://lenta.ru/news/1914/09/16/hungarnn/   \n1  https://lenta.ru/news/1914/09/16/lermontov/   \n2  https://lenta.ru/news/1914/09/17/nesteroff/   \n3   https://lenta.ru/news/1914/09/17/bulldogn/   \n4       https://lenta.ru/news/1914/09/18/zver/   \n\n                                               title  \\\n0  1914. Русские войска вступили в пределы Венгрии     \n1  1914. Празднование столетия М.Ю. Лермонтова от...   \n2                           1914. Das ist Nesteroff!   \n3                    1914. Бульдог-гонец под Льежем    \n4           1914. Под Люблином пойман швабский зверь   \n\n                                                text       topic  \\\n0  Бои у Сопоцкина и Друскеник закончились отступ...  Библиотека   \n1  Министерство народного просвещения, в виду про...  Библиотека   \n2  Штабс-капитан П. Н. Нестеров на днях, увидев в...  Библиотека   \n3  Фотограф-корреспондент Daily Mirror рассказыва...  Библиотека   \n4  Лица, приехавшие в Варшаву из Люблина, передаю...  Библиотека   \n\n             tags        date  \n0  Первая мировая  1914/09/16  \n1  Первая мировая  1914/09/16  \n2  Первая мировая  1914/09/17  \n3  Первая мировая  1914/09/17  \n4  Первая мировая  1914/09/18  ",
      "text/html": "<div>\n<style scoped>\n    .dataframe tbody tr th:only-of-type {\n        vertical-align: middle;\n    }\n\n    .dataframe tbody tr th {\n        vertical-align: top;\n    }\n\n    .dataframe thead th {\n        text-align: right;\n    }\n</style>\n<table border=\"1\" class=\"dataframe\">\n  <thead>\n    <tr style=\"text-align: right;\">\n      <th></th>\n      <th>url</th>\n      <th>title</th>\n      <th>text</th>\n      <th>topic</th>\n      <th>tags</th>\n      <th>date</th>\n    </tr>\n  </thead>\n  <tbody>\n    <tr>\n      <th>0</th>\n      <td>https://lenta.ru/news/1914/09/16/hungarnn/</td>\n      <td>1914. Русские войска вступили в пределы Венгрии</td>\n      <td>Бои у Сопоцкина и Друскеник закончились отступ...</td>\n      <td>Библиотека</td>\n      <td>Первая мировая</td>\n      <td>1914/09/16</td>\n    </tr>\n    <tr>\n      <th>1</th>\n      <td>https://lenta.ru/news/1914/09/16/lermontov/</td>\n      <td>1914. Празднование столетия М.Ю. Лермонтова от...</td>\n      <td>Министерство народного просвещения, в виду про...</td>\n      <td>Библиотека</td>\n      <td>Первая мировая</td>\n      <td>1914/09/16</td>\n    </tr>\n    <tr>\n      <th>2</th>\n      <td>https://lenta.ru/news/1914/09/17/nesteroff/</td>\n      <td>1914. Das ist Nesteroff!</td>\n      <td>Штабс-капитан П. Н. Нестеров на днях, увидев в...</td>\n      <td>Библиотека</td>\n      <td>Первая мировая</td>\n      <td>1914/09/17</td>\n    </tr>\n    <tr>\n      <th>3</th>\n      <td>https://lenta.ru/news/1914/09/17/bulldogn/</td>\n      <td>1914. Бульдог-гонец под Льежем</td>\n      <td>Фотограф-корреспондент Daily Mirror рассказыва...</td>\n      <td>Библиотека</td>\n      <td>Первая мировая</td>\n      <td>1914/09/17</td>\n    </tr>\n    <tr>\n      <th>4</th>\n      <td>https://lenta.ru/news/1914/09/18/zver/</td>\n      <td>1914. Под Люблином пойман швабский зверь</td>\n      <td>Лица, приехавшие в Варшаву из Люблина, передаю...</td>\n      <td>Библиотека</td>\n      <td>Первая мировая</td>\n      <td>1914/09/18</td>\n    </tr>\n  </tbody>\n</table>\n</div>"
     },
     "execution_count": 2,
     "metadata": {},
     "output_type": "execute_result"
    }
   ],
   "source": [
    "HOME_DIR = Path('..')\n",
    "INPUT_DIR = HOME_DIR / 'input/l3/'\n",
    "\n",
    "train_df = pd.read_csv(INPUT_DIR / 'lenta-ru-news.csv')\n",
    "train_df['title'] = train_df['title'].str.replace('\\xa0', ' ')\n",
    "train_df.head()"
   ],
   "metadata": {
    "collapsed": false,
    "pycharm": {
     "name": "#%%\n"
    }
   }
  },
  {
   "cell_type": "code",
   "execution_count": 3,
   "outputs": [],
   "source": [
    "def preprocess_txt(line):\n",
    "    spls = \"\".join(i for i in line.strip() if i not in exclude).split()\n",
    "    spls = [l for i in spls if (l:=morpher.parse(i.lower())[0].normal_form) not in sw and l != \"\"]\n",
    "    return spls"
   ],
   "metadata": {
    "collapsed": false,
    "pycharm": {
     "name": "#%%\n"
    }
   }
  },
  {
   "cell_type": "code",
   "execution_count": 4,
   "outputs": [],
   "source": [
    "def get_response(q, index, model, i_map):\n",
    "    q = preprocess_txt(q)\n",
    "    vector = np.zeros(300)\n",
    "    a = [vector for word in q if word in model.wv]\n",
    "    if (norm:= len(a)):\n",
    "        vector = sum(a) / norm\n",
    "\n",
    "    answers = index.get_nns_by_vector(vector, 5, )\n",
    "    return [i_map[i] for i in answers]"
   ],
   "metadata": {
    "collapsed": false,
    "pycharm": {
     "name": "#%%\n"
    }
   }
  },
  {
   "cell_type": "code",
   "execution_count": 5,
   "outputs": [],
   "source": [
    "# Preprocess for models fitting\n",
    "\n",
    "morpher = MorphAnalyzer()\n",
    "sw = set(get_stop_words(\"ru\"))"
   ],
   "metadata": {
    "collapsed": false,
    "pycharm": {
     "name": "#%%\n"
    }
   }
  },
  {
   "cell_type": "code",
   "execution_count": 6,
   "outputs": [
    {
     "data": {
      "text/plain": "  0%|          | 0/10000 [00:00<?, ?it/s]",
      "application/vnd.jupyter.widget-view+json": {
       "version_major": 2,
       "version_minor": 0,
       "model_id": "b66ecc145dbc457da898764fc05d85a1"
      }
     },
     "metadata": {},
     "output_type": "display_data"
    }
   ],
   "source": [
    "max_row_count = 10000\n",
    "\n",
    "sentences = [preprocess_txt(text) for text in  tqdm(train_df['text'][:max_row_count])]"
   ],
   "metadata": {
    "collapsed": false,
    "pycharm": {
     "name": "#%%\n"
    }
   }
  },
  {
   "cell_type": "code",
   "execution_count": 7,
   "outputs": [
    {
     "name": "stdout",
     "output_type": "stream",
     "text": [
      "CPU times: total: 23.1 s\n",
      "Wall time: 8.85 s\n"
     ]
    }
   ],
   "source": [
    "%%time\n",
    "modelW2V = Word2Vec(sentences=sentences, vector_size=300, window=5, min_count=1)"
   ],
   "metadata": {
    "collapsed": false,
    "pycharm": {
     "name": "#%%\n"
    }
   }
  },
  {
   "cell_type": "code",
   "execution_count": 8,
   "outputs": [
    {
     "name": "stdout",
     "output_type": "stream",
     "text": [
      "CPU times: total: 8min 8s\n",
      "Wall time: 1min 21s\n"
     ]
    }
   ],
   "source": [
    "%%time\n",
    "modelFT = FastText(sentences=sentences, vector_size=300, min_count=1, window=5, workers=8)"
   ],
   "metadata": {
    "collapsed": false,
    "pycharm": {
     "name": "#%%\n"
    }
   }
  },
  {
   "cell_type": "code",
   "execution_count": 9,
   "outputs": [
    {
     "data": {
      "text/plain": "  0%|          | 0/10000 [00:00<?, ?it/s]",
      "application/vnd.jupyter.widget-view+json": {
       "version_major": 2,
       "version_minor": 0,
       "model_id": "17b39d2cba454cbd9f35c649ad418fe3"
      }
     },
     "metadata": {},
     "output_type": "display_data"
    }
   ],
   "source": [
    "w2v_index = annoy.AnnoyIndex(300 ,'angular')\n",
    "ft_index = annoy.AnnoyIndex(300 ,'angular')\n",
    "\n",
    "index_map = {}\n",
    "counter = 0\n",
    "\n",
    "for line in tqdm(train_df[['text', 'title']][:max_row_count].values):\n",
    "    n_w2v = 0\n",
    "    n_ft = 0\n",
    "    # spls = line.split(\"\\t\")\n",
    "    index_map[counter] = line[1]\n",
    "    text = preprocess_txt(line[0])\n",
    "\n",
    "    vector_w2v = np.zeros(300)\n",
    "    vector_ft = np.zeros(300)\n",
    "    for word in text:\n",
    "        if word in modelW2V.wv:\n",
    "            vector_w2v += modelW2V.wv[word]\n",
    "            n_w2v += 1\n",
    "        if word in modelFT.wv:\n",
    "            vector_ft += modelFT.wv[word]\n",
    "            n_ft += 1\n",
    "    if n_w2v > 0:\n",
    "        vector_w2v = vector_w2v / n_w2v\n",
    "    if n_ft > 0:\n",
    "        vector_ft = vector_ft / n_ft\n",
    "    w2v_index.add_item(counter, vector_w2v)\n",
    "    ft_index.add_item(counter, vector_ft)\n",
    "\n",
    "    counter += 1"
   ],
   "metadata": {
    "collapsed": false,
    "pycharm": {
     "name": "#%%\n"
    }
   }
  },
  {
   "cell_type": "code",
   "execution_count": 10,
   "outputs": [
    {
     "data": {
      "text/plain": "True"
     },
     "execution_count": 10,
     "metadata": {},
     "output_type": "execute_result"
    }
   ],
   "source": [
    "w2v_index.build(10)\n",
    "ft_index.build(10)"
   ],
   "metadata": {
    "collapsed": false,
    "pycharm": {
     "name": "#%%\n"
    }
   }
  },
  {
   "cell_type": "code",
   "execution_count": 11,
   "outputs": [],
   "source": [
    "TEXT = \"Политика\""
   ],
   "metadata": {
    "collapsed": false,
    "pycharm": {
     "name": "#%%\n"
    }
   }
  },
  {
   "cell_type": "code",
   "execution_count": 12,
   "outputs": [
    {
     "data": {
      "text/plain": "['Правительство Чечни считает, что Россия начала войну',\n 'Еще 11 заложников вернулись из чеченского плена',\n 'Рушайло и Квашнин вылетели на Кавказ',\n 'Территория Дагестана полностью очищена от боевиков',\n 'Границы и воздушное пространство Чечни закрыты']"
     },
     "execution_count": 12,
     "metadata": {},
     "output_type": "execute_result"
    }
   ],
   "source": [
    "get_response(TEXT, w2v_index, modelW2V, index_map)"
   ],
   "metadata": {
    "collapsed": false,
    "pycharm": {
     "name": "#%%\n"
    }
   }
  },
  {
   "cell_type": "code",
   "execution_count": 13,
   "outputs": [
    {
     "data": {
      "text/plain": "['Создан департамент ФСБ по борьбе с терроризмом',\n 'Американские миротворцы скрывали факт массового убийства',\n 'Спецпредставитель президента РФ Михаил Задорнов уходит со своего поста',\n 'Армия освобождения Косово не будет расформирована',\n 'Россия недовольна процессами в Косово']"
     },
     "execution_count": 13,
     "metadata": {},
     "output_type": "execute_result"
    }
   ],
   "source": [
    "get_response(TEXT, ft_index, modelFT, index_map)"
   ],
   "metadata": {
    "collapsed": false,
    "pycharm": {
     "name": "#%%\n"
    }
   }
  }
 ],
 "metadata": {
  "kernelspec": {
   "display_name": "Python 3",
   "language": "python",
   "name": "python3"
  },
  "language_info": {
   "codemirror_mode": {
    "name": "ipython",
    "version": 2
   },
   "file_extension": ".py",
   "mimetype": "text/x-python",
   "name": "python",
   "nbconvert_exporter": "python",
   "pygments_lexer": "ipython2",
   "version": "2.7.6"
  }
 },
 "nbformat": 4,
 "nbformat_minor": 0
}