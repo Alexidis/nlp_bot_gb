{
 "cells": [
  {
   "cell_type": "markdown",
   "source": [
    "1. Создайте мешок слов с помощью sklearn.feature_extraction.text.CountVectorizer.fit_transform(). Применим его к 'tweet_stemmed' и 'tweet_lemmatized' отдельно.\n",
    "    - Игнорируем слова, частота которых в документе строго превышает порог 0.9 с помощью max_df.\n",
    "    - Ограничим количество слов, попадающий в мешок, с помощью max_features = 1000.\n",
    "    - Исключим стоп-слова с помощью stop_words='english'.\n",
    "    - Отобразим Bag-of-Words модель как DataFrame. columns необходимо извлечь с помощью CountVectorizer.get_feature_names().\n",
    "\n",
    "2. Создайте мешок слов с помощью sklearn.feature_extraction.text.TfidfVectorizer.fit_transform(). Применим его к 'tweet_stemmed' и 'tweet_lemmatized' отдельно.\n",
    "    - Игнорируем слова, частота которых в документе строго превышает порог 0.9 с помощью max_df.\n",
    "    - Ограничим количество слов, попадающий в мешок, с помощью max_features = 1000.\n",
    "    - Исключим стоп-слова с помощью stop_words='english'.\n",
    "    - Отобразим Bag-of-Words модель как DataFrame. columns необходимо извлечь с помощью TfidfVectorizer.get_feature_names().\n",
    "\n",
    "3. Натренируем gensim.models.Word2Vec модель на наших данных.\n",
    "    - Тренировать будем на токенизированных твитах combine_df['tweet_token']\n",
    "    - Установим следующие параметры: size=200, window=5, min_count=2, sg = 1, hs = 0, negative = 10, workers= 32, seed = 34.\n",
    "    - Используем функцию train() с параметром total_examples равным длине combine_df['tweet_token'], количество epochs установим 20.\n"
   ],
   "metadata": {
    "collapsed": false,
    "pycharm": {
     "name": "#%% md\n"
    }
   }
  },
  {
   "cell_type": "code",
   "execution_count": 1,
   "outputs": [],
   "source": [
    "import pandas as pd\n",
    "from pathlib import Path\n",
    "from sklearn.feature_extraction.text import CountVectorizer\n",
    "from sklearn.feature_extraction.text import TfidfVectorizer\n",
    "from gensim.models import Word2Vec"
   ],
   "metadata": {
    "collapsed": false,
    "pycharm": {
     "name": "#%%\n"
    }
   }
  },
  {
   "cell_type": "code",
   "execution_count": 2,
   "outputs": [
    {
     "data": {
      "text/plain": "   id  label                                              tweet  \\\n0   1    0.0   @user when a father is dysfunctional and is s...   \n1   2    0.0  @user @user thanks for #lyft credit i can't us...   \n2   3    0.0                                bihday your majesty   \n3   4    0.0  #model   i love u take with u all the time in ...   \n4   5    0.0             factsguide: society now    #motivation   \n\n                                         clean_tweet  \\\n0  when father is dysfunctional and is so selfish...   \n1  thanks for lyft credit cannot use cause they d...   \n2                                bihday your majesty   \n3  model love yoyou take with yoyou all the time ...   \n4                  factsguide society now motivation   \n\n                                         tweet_token  \\\n0  [when, father, is, dysfunctional, and, is, so,...   \n1  [thanks, for, lyft, credit, can, not, use, cau...   \n2                            [bihday, your, majesty]   \n3  [model, love, yoyou, take, with, yoyou, all, t...   \n4             [factsguide, society, now, motivation]   \n\n                                tweet_token_filtered  \\\n0  [father, dysfunctional, selfish, drags, kids, ...   \n1  [thanks, lyft, credit, use, cause, offer, whee...   \n2                                  [bihday, majesty]   \n3    [model, love, yoyou, take, yoyou, time, yoyour]   \n4                  [factsguide, society, motivation]   \n\n                                       tweet_stemmed  \\\n0  [father, dysfunct, selfish, drag, kid, dysfunc...   \n1  [thank, lyft, credit, use, caus, offer, wheelc...   \n2                                  [bihday, majesti]   \n3    [model, love, yoyou, take, yoyou, time, yoyour]   \n4                        [factsguid, societi, motiv]   \n\n                                    tweet_lemmatized  \n0  [father, dysfunctional, selfish, drag, kid, dy...  \n1  [thank, lyft, credit, use, cause, offer, wheel...  \n2                                  [bihday, majesty]  \n3    [model, love, yoyou, take, yoyou, time, yoyour]  \n4                  [factsguide, society, motivation]  ",
      "text/html": "<div>\n<style scoped>\n    .dataframe tbody tr th:only-of-type {\n        vertical-align: middle;\n    }\n\n    .dataframe tbody tr th {\n        vertical-align: top;\n    }\n\n    .dataframe thead th {\n        text-align: right;\n    }\n</style>\n<table border=\"1\" class=\"dataframe\">\n  <thead>\n    <tr style=\"text-align: right;\">\n      <th></th>\n      <th>id</th>\n      <th>label</th>\n      <th>tweet</th>\n      <th>clean_tweet</th>\n      <th>tweet_token</th>\n      <th>tweet_token_filtered</th>\n      <th>tweet_stemmed</th>\n      <th>tweet_lemmatized</th>\n    </tr>\n  </thead>\n  <tbody>\n    <tr>\n      <th>0</th>\n      <td>1</td>\n      <td>0.0</td>\n      <td>@user when a father is dysfunctional and is s...</td>\n      <td>when father is dysfunctional and is so selfish...</td>\n      <td>[when, father, is, dysfunctional, and, is, so,...</td>\n      <td>[father, dysfunctional, selfish, drags, kids, ...</td>\n      <td>[father, dysfunct, selfish, drag, kid, dysfunc...</td>\n      <td>[father, dysfunctional, selfish, drag, kid, dy...</td>\n    </tr>\n    <tr>\n      <th>1</th>\n      <td>2</td>\n      <td>0.0</td>\n      <td>@user @user thanks for #lyft credit i can't us...</td>\n      <td>thanks for lyft credit cannot use cause they d...</td>\n      <td>[thanks, for, lyft, credit, can, not, use, cau...</td>\n      <td>[thanks, lyft, credit, use, cause, offer, whee...</td>\n      <td>[thank, lyft, credit, use, caus, offer, wheelc...</td>\n      <td>[thank, lyft, credit, use, cause, offer, wheel...</td>\n    </tr>\n    <tr>\n      <th>2</th>\n      <td>3</td>\n      <td>0.0</td>\n      <td>bihday your majesty</td>\n      <td>bihday your majesty</td>\n      <td>[bihday, your, majesty]</td>\n      <td>[bihday, majesty]</td>\n      <td>[bihday, majesti]</td>\n      <td>[bihday, majesty]</td>\n    </tr>\n    <tr>\n      <th>3</th>\n      <td>4</td>\n      <td>0.0</td>\n      <td>#model   i love u take with u all the time in ...</td>\n      <td>model love yoyou take with yoyou all the time ...</td>\n      <td>[model, love, yoyou, take, with, yoyou, all, t...</td>\n      <td>[model, love, yoyou, take, yoyou, time, yoyour]</td>\n      <td>[model, love, yoyou, take, yoyou, time, yoyour]</td>\n      <td>[model, love, yoyou, take, yoyou, time, yoyour]</td>\n    </tr>\n    <tr>\n      <th>4</th>\n      <td>5</td>\n      <td>0.0</td>\n      <td>factsguide: society now    #motivation</td>\n      <td>factsguide society now motivation</td>\n      <td>[factsguide, society, now, motivation]</td>\n      <td>[factsguide, society, motivation]</td>\n      <td>[factsguid, societi, motiv]</td>\n      <td>[factsguide, society, motivation]</td>\n    </tr>\n  </tbody>\n</table>\n</div>"
     },
     "execution_count": 2,
     "metadata": {},
     "output_type": "execute_result"
    }
   ],
   "source": [
    "HOME_DIR = Path('..')\n",
    "INPUT_DIR = HOME_DIR / 'output/l1/'\n",
    "\n",
    "train_df = pd.read_pickle(INPUT_DIR / 'dummy.pkl')\n",
    "train_df.head()"
   ],
   "metadata": {
    "collapsed": false,
    "pycharm": {
     "name": "#%%\n"
    }
   }
  },
  {
   "cell_type": "code",
   "execution_count": 3,
   "outputs": [],
   "source": [
    "def fill_bag(data, vect):\n",
    "    col_corpus = []\n",
    "    [col_corpus.extend(a) for a in data]\n",
    "    bag = vect.fit_transform(col_corpus)\n",
    "\n",
    "    feature_names = vect.get_feature_names_out()\n",
    "    bag_df = pd.DataFrame(bag.toarray(), columns = feature_names)\n",
    "    return bag_df"
   ],
   "metadata": {
    "collapsed": false,
    "pycharm": {
     "name": "#%%\n"
    }
   }
  },
  {
   "cell_type": "code",
   "execution_count": 4,
   "outputs": [
    {
     "data": {
      "text/plain": "   abl  absolut  accept  account  act  action  activ  actor  actual  ad  ...  \\\n0    0        0       0        0    0       0      0      0       0   0  ...   \n1    0        0       0        0    0       0      0      0       0   0  ...   \n2    0        0       0        0    0       0      0      0       0   0  ...   \n3    0        0       0        0    0       0      0      0       0   0  ...   \n4    0        0       0        0    0       0      0      0       0   0  ...   \n\n   yo  yoga  york  young  youtub  yoyou  yoyour  yoyoy  yr  yummi  \n0   0     0     0      0       0      0       0      0   0      0  \n1   0     0     0      0       0      0       0      0   0      0  \n2   0     0     0      0       0      0       0      0   0      0  \n3   0     0     0      0       0      0       0      0   0      0  \n4   0     0     0      0       0      0       0      0   0      0  \n\n[5 rows x 1000 columns]",
      "text/html": "<div>\n<style scoped>\n    .dataframe tbody tr th:only-of-type {\n        vertical-align: middle;\n    }\n\n    .dataframe tbody tr th {\n        vertical-align: top;\n    }\n\n    .dataframe thead th {\n        text-align: right;\n    }\n</style>\n<table border=\"1\" class=\"dataframe\">\n  <thead>\n    <tr style=\"text-align: right;\">\n      <th></th>\n      <th>abl</th>\n      <th>absolut</th>\n      <th>accept</th>\n      <th>account</th>\n      <th>act</th>\n      <th>action</th>\n      <th>activ</th>\n      <th>actor</th>\n      <th>actual</th>\n      <th>ad</th>\n      <th>...</th>\n      <th>yo</th>\n      <th>yoga</th>\n      <th>york</th>\n      <th>young</th>\n      <th>youtub</th>\n      <th>yoyou</th>\n      <th>yoyour</th>\n      <th>yoyoy</th>\n      <th>yr</th>\n      <th>yummi</th>\n    </tr>\n  </thead>\n  <tbody>\n    <tr>\n      <th>0</th>\n      <td>0</td>\n      <td>0</td>\n      <td>0</td>\n      <td>0</td>\n      <td>0</td>\n      <td>0</td>\n      <td>0</td>\n      <td>0</td>\n      <td>0</td>\n      <td>0</td>\n      <td>...</td>\n      <td>0</td>\n      <td>0</td>\n      <td>0</td>\n      <td>0</td>\n      <td>0</td>\n      <td>0</td>\n      <td>0</td>\n      <td>0</td>\n      <td>0</td>\n      <td>0</td>\n    </tr>\n    <tr>\n      <th>1</th>\n      <td>0</td>\n      <td>0</td>\n      <td>0</td>\n      <td>0</td>\n      <td>0</td>\n      <td>0</td>\n      <td>0</td>\n      <td>0</td>\n      <td>0</td>\n      <td>0</td>\n      <td>...</td>\n      <td>0</td>\n      <td>0</td>\n      <td>0</td>\n      <td>0</td>\n      <td>0</td>\n      <td>0</td>\n      <td>0</td>\n      <td>0</td>\n      <td>0</td>\n      <td>0</td>\n    </tr>\n    <tr>\n      <th>2</th>\n      <td>0</td>\n      <td>0</td>\n      <td>0</td>\n      <td>0</td>\n      <td>0</td>\n      <td>0</td>\n      <td>0</td>\n      <td>0</td>\n      <td>0</td>\n      <td>0</td>\n      <td>...</td>\n      <td>0</td>\n      <td>0</td>\n      <td>0</td>\n      <td>0</td>\n      <td>0</td>\n      <td>0</td>\n      <td>0</td>\n      <td>0</td>\n      <td>0</td>\n      <td>0</td>\n    </tr>\n    <tr>\n      <th>3</th>\n      <td>0</td>\n      <td>0</td>\n      <td>0</td>\n      <td>0</td>\n      <td>0</td>\n      <td>0</td>\n      <td>0</td>\n      <td>0</td>\n      <td>0</td>\n      <td>0</td>\n      <td>...</td>\n      <td>0</td>\n      <td>0</td>\n      <td>0</td>\n      <td>0</td>\n      <td>0</td>\n      <td>0</td>\n      <td>0</td>\n      <td>0</td>\n      <td>0</td>\n      <td>0</td>\n    </tr>\n    <tr>\n      <th>4</th>\n      <td>0</td>\n      <td>0</td>\n      <td>0</td>\n      <td>0</td>\n      <td>0</td>\n      <td>0</td>\n      <td>0</td>\n      <td>0</td>\n      <td>0</td>\n      <td>0</td>\n      <td>...</td>\n      <td>0</td>\n      <td>0</td>\n      <td>0</td>\n      <td>0</td>\n      <td>0</td>\n      <td>0</td>\n      <td>0</td>\n      <td>0</td>\n      <td>0</td>\n      <td>0</td>\n    </tr>\n  </tbody>\n</table>\n<p>5 rows × 1000 columns</p>\n</div>"
     },
     "execution_count": 4,
     "metadata": {},
     "output_type": "execute_result"
    }
   ],
   "source": [
    "tweet_stemmed_c_vect = CountVectorizer(analyzer='word', max_df=0.9, max_features = 1000, stop_words='english')\n",
    "tweet_stemmed_bag_df = fill_bag(train_df['tweet_stemmed'], tweet_stemmed_c_vect)\n",
    "\n",
    "tweet_stemmed_bag_df.head(5)"
   ],
   "metadata": {
    "collapsed": false,
    "pycharm": {
     "name": "#%%\n"
    }
   }
  },
  {
   "cell_type": "code",
   "execution_count": 5,
   "outputs": [
    {
     "data": {
      "text/plain": "   able  absolutely  accept  account  act  action  actor  actually  adapt  \\\n0     0           0       0        0    0       0      0         0      0   \n1     0           0       0        0    0       0      0         0      0   \n2     0           0       0        0    0       0      0         0      0   \n3     0           0       0        0    0       0      0         0      0   \n4     0           0       0        0    0       0      0         0      0   \n\n   add  ...  yoga  york  young  youtube  yoyou  yoyour  yoyoyou  yr  yrs  \\\n0    0  ...     0     0      0        0      0       0        0   0    0   \n1    0  ...     0     0      0        0      0       0        0   0    0   \n2    0  ...     0     0      0        0      0       0        0   0    0   \n3    0  ...     0     0      0        0      0       0        0   0    0   \n4    0  ...     0     0      0        0      0       0        0   0    0   \n\n   yummy  \n0      0  \n1      0  \n2      0  \n3      0  \n4      0  \n\n[5 rows x 1000 columns]",
      "text/html": "<div>\n<style scoped>\n    .dataframe tbody tr th:only-of-type {\n        vertical-align: middle;\n    }\n\n    .dataframe tbody tr th {\n        vertical-align: top;\n    }\n\n    .dataframe thead th {\n        text-align: right;\n    }\n</style>\n<table border=\"1\" class=\"dataframe\">\n  <thead>\n    <tr style=\"text-align: right;\">\n      <th></th>\n      <th>able</th>\n      <th>absolutely</th>\n      <th>accept</th>\n      <th>account</th>\n      <th>act</th>\n      <th>action</th>\n      <th>actor</th>\n      <th>actually</th>\n      <th>adapt</th>\n      <th>add</th>\n      <th>...</th>\n      <th>yoga</th>\n      <th>york</th>\n      <th>young</th>\n      <th>youtube</th>\n      <th>yoyou</th>\n      <th>yoyour</th>\n      <th>yoyoyou</th>\n      <th>yr</th>\n      <th>yrs</th>\n      <th>yummy</th>\n    </tr>\n  </thead>\n  <tbody>\n    <tr>\n      <th>0</th>\n      <td>0</td>\n      <td>0</td>\n      <td>0</td>\n      <td>0</td>\n      <td>0</td>\n      <td>0</td>\n      <td>0</td>\n      <td>0</td>\n      <td>0</td>\n      <td>0</td>\n      <td>...</td>\n      <td>0</td>\n      <td>0</td>\n      <td>0</td>\n      <td>0</td>\n      <td>0</td>\n      <td>0</td>\n      <td>0</td>\n      <td>0</td>\n      <td>0</td>\n      <td>0</td>\n    </tr>\n    <tr>\n      <th>1</th>\n      <td>0</td>\n      <td>0</td>\n      <td>0</td>\n      <td>0</td>\n      <td>0</td>\n      <td>0</td>\n      <td>0</td>\n      <td>0</td>\n      <td>0</td>\n      <td>0</td>\n      <td>...</td>\n      <td>0</td>\n      <td>0</td>\n      <td>0</td>\n      <td>0</td>\n      <td>0</td>\n      <td>0</td>\n      <td>0</td>\n      <td>0</td>\n      <td>0</td>\n      <td>0</td>\n    </tr>\n    <tr>\n      <th>2</th>\n      <td>0</td>\n      <td>0</td>\n      <td>0</td>\n      <td>0</td>\n      <td>0</td>\n      <td>0</td>\n      <td>0</td>\n      <td>0</td>\n      <td>0</td>\n      <td>0</td>\n      <td>...</td>\n      <td>0</td>\n      <td>0</td>\n      <td>0</td>\n      <td>0</td>\n      <td>0</td>\n      <td>0</td>\n      <td>0</td>\n      <td>0</td>\n      <td>0</td>\n      <td>0</td>\n    </tr>\n    <tr>\n      <th>3</th>\n      <td>0</td>\n      <td>0</td>\n      <td>0</td>\n      <td>0</td>\n      <td>0</td>\n      <td>0</td>\n      <td>0</td>\n      <td>0</td>\n      <td>0</td>\n      <td>0</td>\n      <td>...</td>\n      <td>0</td>\n      <td>0</td>\n      <td>0</td>\n      <td>0</td>\n      <td>0</td>\n      <td>0</td>\n      <td>0</td>\n      <td>0</td>\n      <td>0</td>\n      <td>0</td>\n    </tr>\n    <tr>\n      <th>4</th>\n      <td>0</td>\n      <td>0</td>\n      <td>0</td>\n      <td>0</td>\n      <td>0</td>\n      <td>0</td>\n      <td>0</td>\n      <td>0</td>\n      <td>0</td>\n      <td>0</td>\n      <td>...</td>\n      <td>0</td>\n      <td>0</td>\n      <td>0</td>\n      <td>0</td>\n      <td>0</td>\n      <td>0</td>\n      <td>0</td>\n      <td>0</td>\n      <td>0</td>\n      <td>0</td>\n    </tr>\n  </tbody>\n</table>\n<p>5 rows × 1000 columns</p>\n</div>"
     },
     "execution_count": 5,
     "metadata": {},
     "output_type": "execute_result"
    }
   ],
   "source": [
    "tweet_lemmatized_c_vect = CountVectorizer(analyzer='word', max_df=0.9, max_features = 1000, stop_words='english')\n",
    "tweet_lemmatized_bag_df = fill_bag(train_df['tweet_lemmatized'], tweet_lemmatized_c_vect)\n",
    "\n",
    "tweet_lemmatized_bag_df.head(5)"
   ],
   "metadata": {
    "collapsed": false,
    "pycharm": {
     "name": "#%%\n"
    }
   }
  },
  {
   "cell_type": "code",
   "execution_count": 6,
   "outputs": [
    {
     "data": {
      "text/plain": "   abl  absolut  accept  account  act  action  activ  actor  actual   ad  ...  \\\n0  0.0      0.0     0.0      0.0  0.0     0.0    0.0    0.0     0.0  0.0  ...   \n1  0.0      0.0     0.0      0.0  0.0     0.0    0.0    0.0     0.0  0.0  ...   \n2  0.0      0.0     0.0      0.0  0.0     0.0    0.0    0.0     0.0  0.0  ...   \n3  0.0      0.0     0.0      0.0  0.0     0.0    0.0    0.0     0.0  0.0  ...   \n4  0.0      0.0     0.0      0.0  0.0     0.0    0.0    0.0     0.0  0.0  ...   \n\n    yo  yoga  york  young  youtub  yoyou  yoyour  yoyoy   yr  yummi  \n0  0.0   0.0   0.0    0.0     0.0    0.0     0.0    0.0  0.0    0.0  \n1  0.0   0.0   0.0    0.0     0.0    0.0     0.0    0.0  0.0    0.0  \n2  0.0   0.0   0.0    0.0     0.0    0.0     0.0    0.0  0.0    0.0  \n3  0.0   0.0   0.0    0.0     0.0    0.0     0.0    0.0  0.0    0.0  \n4  0.0   0.0   0.0    0.0     0.0    0.0     0.0    0.0  0.0    0.0  \n\n[5 rows x 1000 columns]",
      "text/html": "<div>\n<style scoped>\n    .dataframe tbody tr th:only-of-type {\n        vertical-align: middle;\n    }\n\n    .dataframe tbody tr th {\n        vertical-align: top;\n    }\n\n    .dataframe thead th {\n        text-align: right;\n    }\n</style>\n<table border=\"1\" class=\"dataframe\">\n  <thead>\n    <tr style=\"text-align: right;\">\n      <th></th>\n      <th>abl</th>\n      <th>absolut</th>\n      <th>accept</th>\n      <th>account</th>\n      <th>act</th>\n      <th>action</th>\n      <th>activ</th>\n      <th>actor</th>\n      <th>actual</th>\n      <th>ad</th>\n      <th>...</th>\n      <th>yo</th>\n      <th>yoga</th>\n      <th>york</th>\n      <th>young</th>\n      <th>youtub</th>\n      <th>yoyou</th>\n      <th>yoyour</th>\n      <th>yoyoy</th>\n      <th>yr</th>\n      <th>yummi</th>\n    </tr>\n  </thead>\n  <tbody>\n    <tr>\n      <th>0</th>\n      <td>0.0</td>\n      <td>0.0</td>\n      <td>0.0</td>\n      <td>0.0</td>\n      <td>0.0</td>\n      <td>0.0</td>\n      <td>0.0</td>\n      <td>0.0</td>\n      <td>0.0</td>\n      <td>0.0</td>\n      <td>...</td>\n      <td>0.0</td>\n      <td>0.0</td>\n      <td>0.0</td>\n      <td>0.0</td>\n      <td>0.0</td>\n      <td>0.0</td>\n      <td>0.0</td>\n      <td>0.0</td>\n      <td>0.0</td>\n      <td>0.0</td>\n    </tr>\n    <tr>\n      <th>1</th>\n      <td>0.0</td>\n      <td>0.0</td>\n      <td>0.0</td>\n      <td>0.0</td>\n      <td>0.0</td>\n      <td>0.0</td>\n      <td>0.0</td>\n      <td>0.0</td>\n      <td>0.0</td>\n      <td>0.0</td>\n      <td>...</td>\n      <td>0.0</td>\n      <td>0.0</td>\n      <td>0.0</td>\n      <td>0.0</td>\n      <td>0.0</td>\n      <td>0.0</td>\n      <td>0.0</td>\n      <td>0.0</td>\n      <td>0.0</td>\n      <td>0.0</td>\n    </tr>\n    <tr>\n      <th>2</th>\n      <td>0.0</td>\n      <td>0.0</td>\n      <td>0.0</td>\n      <td>0.0</td>\n      <td>0.0</td>\n      <td>0.0</td>\n      <td>0.0</td>\n      <td>0.0</td>\n      <td>0.0</td>\n      <td>0.0</td>\n      <td>...</td>\n      <td>0.0</td>\n      <td>0.0</td>\n      <td>0.0</td>\n      <td>0.0</td>\n      <td>0.0</td>\n      <td>0.0</td>\n      <td>0.0</td>\n      <td>0.0</td>\n      <td>0.0</td>\n      <td>0.0</td>\n    </tr>\n    <tr>\n      <th>3</th>\n      <td>0.0</td>\n      <td>0.0</td>\n      <td>0.0</td>\n      <td>0.0</td>\n      <td>0.0</td>\n      <td>0.0</td>\n      <td>0.0</td>\n      <td>0.0</td>\n      <td>0.0</td>\n      <td>0.0</td>\n      <td>...</td>\n      <td>0.0</td>\n      <td>0.0</td>\n      <td>0.0</td>\n      <td>0.0</td>\n      <td>0.0</td>\n      <td>0.0</td>\n      <td>0.0</td>\n      <td>0.0</td>\n      <td>0.0</td>\n      <td>0.0</td>\n    </tr>\n    <tr>\n      <th>4</th>\n      <td>0.0</td>\n      <td>0.0</td>\n      <td>0.0</td>\n      <td>0.0</td>\n      <td>0.0</td>\n      <td>0.0</td>\n      <td>0.0</td>\n      <td>0.0</td>\n      <td>0.0</td>\n      <td>0.0</td>\n      <td>...</td>\n      <td>0.0</td>\n      <td>0.0</td>\n      <td>0.0</td>\n      <td>0.0</td>\n      <td>0.0</td>\n      <td>0.0</td>\n      <td>0.0</td>\n      <td>0.0</td>\n      <td>0.0</td>\n      <td>0.0</td>\n    </tr>\n  </tbody>\n</table>\n<p>5 rows × 1000 columns</p>\n</div>"
     },
     "execution_count": 6,
     "metadata": {},
     "output_type": "execute_result"
    }
   ],
   "source": [
    "tweet_stemmed_t_vect = TfidfVectorizer(analyzer='word', max_df=0.9, max_features = 1000, stop_words='english')\n",
    "tweet_stemmed_bag_df = fill_bag(train_df['tweet_stemmed'], tweet_stemmed_t_vect)\n",
    "\n",
    "tweet_stemmed_bag_df.head(5)"
   ],
   "metadata": {
    "collapsed": false,
    "pycharm": {
     "name": "#%%\n"
    }
   }
  },
  {
   "cell_type": "code",
   "execution_count": 7,
   "outputs": [
    {
     "data": {
      "text/plain": "   able  absolutely  accept  account  act  action  actor  actually  adapt  \\\n0   0.0         0.0     0.0      0.0  0.0     0.0    0.0       0.0    0.0   \n1   0.0         0.0     0.0      0.0  0.0     0.0    0.0       0.0    0.0   \n2   0.0         0.0     0.0      0.0  0.0     0.0    0.0       0.0    0.0   \n3   0.0         0.0     0.0      0.0  0.0     0.0    0.0       0.0    0.0   \n4   0.0         0.0     0.0      0.0  0.0     0.0    0.0       0.0    0.0   \n\n   add  ...  yoga  york  young  youtube  yoyou  yoyour  yoyoyou   yr  yrs  \\\n0  0.0  ...   0.0   0.0    0.0      0.0    0.0     0.0      0.0  0.0  0.0   \n1  0.0  ...   0.0   0.0    0.0      0.0    0.0     0.0      0.0  0.0  0.0   \n2  0.0  ...   0.0   0.0    0.0      0.0    0.0     0.0      0.0  0.0  0.0   \n3  0.0  ...   0.0   0.0    0.0      0.0    0.0     0.0      0.0  0.0  0.0   \n4  0.0  ...   0.0   0.0    0.0      0.0    0.0     0.0      0.0  0.0  0.0   \n\n   yummy  \n0    0.0  \n1    0.0  \n2    0.0  \n3    0.0  \n4    0.0  \n\n[5 rows x 1000 columns]",
      "text/html": "<div>\n<style scoped>\n    .dataframe tbody tr th:only-of-type {\n        vertical-align: middle;\n    }\n\n    .dataframe tbody tr th {\n        vertical-align: top;\n    }\n\n    .dataframe thead th {\n        text-align: right;\n    }\n</style>\n<table border=\"1\" class=\"dataframe\">\n  <thead>\n    <tr style=\"text-align: right;\">\n      <th></th>\n      <th>able</th>\n      <th>absolutely</th>\n      <th>accept</th>\n      <th>account</th>\n      <th>act</th>\n      <th>action</th>\n      <th>actor</th>\n      <th>actually</th>\n      <th>adapt</th>\n      <th>add</th>\n      <th>...</th>\n      <th>yoga</th>\n      <th>york</th>\n      <th>young</th>\n      <th>youtube</th>\n      <th>yoyou</th>\n      <th>yoyour</th>\n      <th>yoyoyou</th>\n      <th>yr</th>\n      <th>yrs</th>\n      <th>yummy</th>\n    </tr>\n  </thead>\n  <tbody>\n    <tr>\n      <th>0</th>\n      <td>0.0</td>\n      <td>0.0</td>\n      <td>0.0</td>\n      <td>0.0</td>\n      <td>0.0</td>\n      <td>0.0</td>\n      <td>0.0</td>\n      <td>0.0</td>\n      <td>0.0</td>\n      <td>0.0</td>\n      <td>...</td>\n      <td>0.0</td>\n      <td>0.0</td>\n      <td>0.0</td>\n      <td>0.0</td>\n      <td>0.0</td>\n      <td>0.0</td>\n      <td>0.0</td>\n      <td>0.0</td>\n      <td>0.0</td>\n      <td>0.0</td>\n    </tr>\n    <tr>\n      <th>1</th>\n      <td>0.0</td>\n      <td>0.0</td>\n      <td>0.0</td>\n      <td>0.0</td>\n      <td>0.0</td>\n      <td>0.0</td>\n      <td>0.0</td>\n      <td>0.0</td>\n      <td>0.0</td>\n      <td>0.0</td>\n      <td>...</td>\n      <td>0.0</td>\n      <td>0.0</td>\n      <td>0.0</td>\n      <td>0.0</td>\n      <td>0.0</td>\n      <td>0.0</td>\n      <td>0.0</td>\n      <td>0.0</td>\n      <td>0.0</td>\n      <td>0.0</td>\n    </tr>\n    <tr>\n      <th>2</th>\n      <td>0.0</td>\n      <td>0.0</td>\n      <td>0.0</td>\n      <td>0.0</td>\n      <td>0.0</td>\n      <td>0.0</td>\n      <td>0.0</td>\n      <td>0.0</td>\n      <td>0.0</td>\n      <td>0.0</td>\n      <td>...</td>\n      <td>0.0</td>\n      <td>0.0</td>\n      <td>0.0</td>\n      <td>0.0</td>\n      <td>0.0</td>\n      <td>0.0</td>\n      <td>0.0</td>\n      <td>0.0</td>\n      <td>0.0</td>\n      <td>0.0</td>\n    </tr>\n    <tr>\n      <th>3</th>\n      <td>0.0</td>\n      <td>0.0</td>\n      <td>0.0</td>\n      <td>0.0</td>\n      <td>0.0</td>\n      <td>0.0</td>\n      <td>0.0</td>\n      <td>0.0</td>\n      <td>0.0</td>\n      <td>0.0</td>\n      <td>...</td>\n      <td>0.0</td>\n      <td>0.0</td>\n      <td>0.0</td>\n      <td>0.0</td>\n      <td>0.0</td>\n      <td>0.0</td>\n      <td>0.0</td>\n      <td>0.0</td>\n      <td>0.0</td>\n      <td>0.0</td>\n    </tr>\n    <tr>\n      <th>4</th>\n      <td>0.0</td>\n      <td>0.0</td>\n      <td>0.0</td>\n      <td>0.0</td>\n      <td>0.0</td>\n      <td>0.0</td>\n      <td>0.0</td>\n      <td>0.0</td>\n      <td>0.0</td>\n      <td>0.0</td>\n      <td>...</td>\n      <td>0.0</td>\n      <td>0.0</td>\n      <td>0.0</td>\n      <td>0.0</td>\n      <td>0.0</td>\n      <td>0.0</td>\n      <td>0.0</td>\n      <td>0.0</td>\n      <td>0.0</td>\n      <td>0.0</td>\n    </tr>\n  </tbody>\n</table>\n<p>5 rows × 1000 columns</p>\n</div>"
     },
     "execution_count": 7,
     "metadata": {},
     "output_type": "execute_result"
    }
   ],
   "source": [
    "tweet_lemmatized_t_vect = TfidfVectorizer(analyzer='word', max_df=0.9, max_features = 1000, stop_words='english')\n",
    "tweet_lemmatized_bag_df = fill_bag(train_df['tweet_lemmatized'], tweet_lemmatized_t_vect)\n",
    "\n",
    "tweet_lemmatized_bag_df.head(5)"
   ],
   "metadata": {
    "collapsed": false,
    "pycharm": {
     "name": "#%%\n"
    }
   }
  },
  {
   "cell_type": "code",
   "execution_count": 8,
   "outputs": [
    {
     "data": {
      "text/plain": "(9174600, 11679520)"
     },
     "execution_count": 8,
     "metadata": {},
     "output_type": "execute_result"
    }
   ],
   "source": [
    "tweet_token_W2V = Word2Vec(sentences=train_df['tweet_token'], vector_size=200, window=5, min_count=2, sg = 1, hs = 0, negative = 10, workers= 32, seed = 34)\n",
    "tweet_token_W2V.train(train_df['tweet_token'], total_examples=len(train_df['tweet_token']), epochs=20)"
   ],
   "metadata": {
    "collapsed": false,
    "pycharm": {
     "name": "#%%\n"
    }
   }
  }
 ],
 "metadata": {
  "kernelspec": {
   "display_name": "Python 3",
   "language": "python",
   "name": "python3"
  },
  "language_info": {
   "codemirror_mode": {
    "name": "ipython",
    "version": 2
   },
   "file_extension": ".py",
   "mimetype": "text/x-python",
   "name": "python",
   "nbconvert_exporter": "python",
   "pygments_lexer": "ipython2",
   "version": "2.7.6"
  }
 },
 "nbformat": 4,
 "nbformat_minor": 0
}